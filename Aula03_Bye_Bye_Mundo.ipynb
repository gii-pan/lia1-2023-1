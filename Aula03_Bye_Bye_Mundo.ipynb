{
  "cells": [
    {
      "cell_type": "markdown",
      "metadata": {
        "id": "view-in-github",
        "colab_type": "text"
      },
      "source": [
        "<a href=\"https://colab.research.google.com/github/gii-pan/lia1-2023-1/blob/main/Aula03_Bye_Bye_Mundo.ipynb\" target=\"_parent\"><img src=\"https://colab.research.google.com/assets/colab-badge.svg\" alt=\"Open In Colab\"/></a>"
      ]
    },
    {
      "cell_type": "code",
      "source": [
        "from google.colab import drive\n",
        "drive.mount('/content/drive')"
      ],
      "metadata": {
        "colab": {
          "base_uri": "https://localhost:8080/"
        },
        "id": "dNTAF3GIDHy8",
        "outputId": "5701df7d-7d88-447e-fa7c-406581022dc1"
      },
      "id": "dNTAF3GIDHy8",
      "execution_count": 30,
      "outputs": [
        {
          "output_type": "stream",
          "name": "stdout",
          "text": [
            "Drive already mounted at /content/drive; to attempt to forcibly remount, call drive.mount(\"/content/drive\", force_remount=True).\n"
          ]
        }
      ]
    },
    {
      "cell_type": "code",
      "source": [
        "path = '/content/drive/MyDrive/2023.1/IA/LIA/Aula 03'"
      ],
      "metadata": {
        "id": "peqPFcosDse4"
      },
      "id": "peqPFcosDse4",
      "execution_count": 31,
      "outputs": []
    },
    {
      "cell_type": "markdown",
      "id": "ec892303",
      "metadata": {
        "id": "ec892303"
      },
      "source": [
        "<hr style=\"height:10px\"> \n",
        " \n",
        "<div class='container2'>\n",
        "\t<div style='padding: 0 7em 2em 12em;'>\n",
        "\t<h1>Laboratório de Inovação e Automação 1 (LIA 1)</h1>\n",
        "\t<div style=\"font-size:12pt;float:left;\"> 2023/1 | 46M34 | Sala 200 CAE</div><br>\n",
        "    <div style=\"font-size:12pt;float:left;\"><b>Projetos de Inteligência Artificial</b></div>\n",
        "\t</div>\n",
        "</div>\n",
        "\n",
        "\n",
        " <hr style=\"height:5px\"> \n",
        "\n",
        "    \n",
        "<h2>Introdução ao Ambiente de Projetos</h2>\n",
        "\n",
        "Notebook desenvolvido por: <a href=\"https://github.com/gii-pan\">Giulia Borges de Oliveira</a>\n",
        "\n",
        " <hr style=\"height:2px\"> "
      ]
    },
    {
      "cell_type": "markdown",
      "id": "695951c4",
      "metadata": {
        "id": "695951c4"
      },
      "source": [
        "## Confirmar a versão da Linguagem Python instalada"
      ]
    },
    {
      "cell_type": "code",
      "execution_count": 32,
      "id": "1083e0f6",
      "metadata": {
        "colab": {
          "base_uri": "https://localhost:8080/"
        },
        "id": "1083e0f6",
        "outputId": "e3efbd6e-485c-4b49-cb63-ebb6cd2e8241"
      },
      "outputs": [
        {
          "output_type": "stream",
          "name": "stdout",
          "text": [
            "A versão da linguagem Python usada nestre projeto é a 3.10.11\n"
          ]
        }
      ],
      "source": [
        "from platform import python_version\n",
        "print(f'A versão da linguagem Python usada nestre projeto é a {python_version()}')"
      ]
    },
    {
      "cell_type": "code",
      "execution_count": 33,
      "id": "42371986",
      "metadata": {
        "colab": {
          "base_uri": "https://localhost:8080/"
        },
        "id": "42371986",
        "outputId": "8be9ddba-a888-4dfa-954d-f41795b73c93"
      },
      "outputs": [
        {
          "output_type": "stream",
          "name": "stdout",
          "text": [
            "안녕하세요 세계 ~\n"
          ]
        }
      ],
      "source": [
        "# Verificar se o Python está funcionando\n",
        "print('안녕하세요 세계 ~')"
      ]
    },
    {
      "cell_type": "markdown",
      "id": "9899fb35",
      "metadata": {
        "id": "9899fb35"
      },
      "source": [
        "# Operadores Aritméticos"
      ]
    },
    {
      "cell_type": "code",
      "execution_count": 34,
      "id": "4815b215",
      "metadata": {
        "colab": {
          "base_uri": "https://localhost:8080/"
        },
        "id": "4815b215",
        "outputId": "057cf111-a314-467d-c4de-83f51e299c83"
      },
      "outputs": [
        {
          "output_type": "execute_result",
          "data": {
            "text/plain": [
              "4"
            ]
          },
          "metadata": {},
          "execution_count": 34
        }
      ],
      "source": [
        "# Adição\n",
        "2 + 2"
      ]
    },
    {
      "cell_type": "code",
      "execution_count": 35,
      "id": "2e4b02d4",
      "metadata": {
        "colab": {
          "base_uri": "https://localhost:8080/"
        },
        "id": "2e4b02d4",
        "outputId": "f4989fe2-6c33-4fc4-9eb4-a99fe7cfafb9"
      },
      "outputs": [
        {
          "output_type": "execute_result",
          "data": {
            "text/plain": [
              "0"
            ]
          },
          "metadata": {},
          "execution_count": 35
        }
      ],
      "source": [
        "# Subtração\n",
        "2 - 2"
      ]
    },
    {
      "cell_type": "code",
      "execution_count": 36,
      "id": "a85fb165",
      "metadata": {
        "colab": {
          "base_uri": "https://localhost:8080/"
        },
        "id": "a85fb165",
        "outputId": "2b3cae22-0103-4dd7-9d24-74bc531d46df"
      },
      "outputs": [
        {
          "output_type": "execute_result",
          "data": {
            "text/plain": [
              "8"
            ]
          },
          "metadata": {},
          "execution_count": 36
        }
      ],
      "source": [
        "# Multiplicação\n",
        "4 * 2"
      ]
    },
    {
      "cell_type": "code",
      "execution_count": 37,
      "id": "3b503b70",
      "metadata": {
        "colab": {
          "base_uri": "https://localhost:8080/"
        },
        "id": "3b503b70",
        "outputId": "870369ca-dfdc-43fa-e207-7fe19e7aed56"
      },
      "outputs": [
        {
          "output_type": "execute_result",
          "data": {
            "text/plain": [
              "20.0"
            ]
          },
          "metadata": {},
          "execution_count": 37
        }
      ],
      "source": [
        "# Divisão\n",
        "40 / 2"
      ]
    },
    {
      "cell_type": "code",
      "execution_count": 38,
      "id": "9f9b68db",
      "metadata": {
        "colab": {
          "base_uri": "https://localhost:8080/"
        },
        "id": "9f9b68db",
        "outputId": "f433c469-bb3b-4fb8-fe64-5c85107ddeda"
      },
      "outputs": [
        {
          "output_type": "execute_result",
          "data": {
            "text/plain": [
              "64"
            ]
          },
          "metadata": {},
          "execution_count": 38
        }
      ],
      "source": [
        "# Potência\n",
        "8 ** 2"
      ]
    },
    {
      "cell_type": "code",
      "execution_count": 39,
      "id": "9981cc5c",
      "metadata": {
        "colab": {
          "base_uri": "https://localhost:8080/"
        },
        "id": "9981cc5c",
        "outputId": "c749bf27-137f-46cb-d013-326d9dd09f74"
      },
      "outputs": [
        {
          "output_type": "execute_result",
          "data": {
            "text/plain": [
              "5"
            ]
          },
          "metadata": {},
          "execution_count": 39
        }
      ],
      "source": [
        "# Módulo (resto da divisão)\n",
        "80 % 15"
      ]
    },
    {
      "cell_type": "markdown",
      "id": "536debc2",
      "metadata": {
        "id": "536debc2"
      },
      "source": [
        "# Tipos de Dados (Type)"
      ]
    },
    {
      "cell_type": "code",
      "execution_count": 40,
      "id": "f65b56e5",
      "metadata": {
        "colab": {
          "base_uri": "https://localhost:8080/"
        },
        "id": "f65b56e5",
        "outputId": "795d8a95-5bd5-4d18-9290-fa624ec2f579"
      },
      "outputs": [
        {
          "output_type": "execute_result",
          "data": {
            "text/plain": [
              "int"
            ]
          },
          "metadata": {},
          "execution_count": 40
        }
      ],
      "source": [
        "# Qual o tipo do (?) -> Inteiro\n",
        "type(5)"
      ]
    },
    {
      "cell_type": "code",
      "execution_count": 41,
      "id": "714efb68",
      "metadata": {
        "colab": {
          "base_uri": "https://localhost:8080/"
        },
        "id": "714efb68",
        "outputId": "7c82708d-d2f2-4640-e1f1-598d29094ffb"
      },
      "outputs": [
        {
          "output_type": "execute_result",
          "data": {
            "text/plain": [
              "float"
            ]
          },
          "metadata": {},
          "execution_count": 41
        }
      ],
      "source": [
        "# Qual o tipo do (?) -> Float - Decimal\n",
        "type(5.0)"
      ]
    },
    {
      "cell_type": "code",
      "execution_count": 42,
      "id": "0e976e5e",
      "metadata": {
        "colab": {
          "base_uri": "https://localhost:8080/"
        },
        "id": "0e976e5e",
        "outputId": "8399c6fd-78ac-4377-c9d3-00c50d35ea92"
      },
      "outputs": [
        {
          "output_type": "execute_result",
          "data": {
            "text/plain": [
              "str"
            ]
          },
          "metadata": {},
          "execution_count": 42
        }
      ],
      "source": [
        "#Qual o tipo do (?) -> String\n",
        "a = \"Estudando Python!\"\n",
        "type(a)"
      ]
    },
    {
      "cell_type": "markdown",
      "id": "ae172362",
      "metadata": {
        "id": "ae172362"
      },
      "source": [
        "# Condicional if"
      ]
    },
    {
      "cell_type": "code",
      "execution_count": 43,
      "id": "9f45a95a",
      "metadata": {
        "colab": {
          "base_uri": "https://localhost:8080/"
        },
        "id": "9f45a95a",
        "outputId": "433c62d0-214e-4581-a12c-82a95c7801f4"
      },
      "outputs": [
        {
          "output_type": "stream",
          "name": "stdout",
          "text": [
            "A sentença é verdadeira!\n"
          ]
        }
      ],
      "source": [
        "# Condicional if (Se)\n",
        "if 5 > 2 :\n",
        "    print(\"A sentença é verdadeira!\")"
      ]
    },
    {
      "cell_type": "code",
      "execution_count": 44,
      "id": "fdf1fd7a",
      "metadata": {
        "colab": {
          "base_uri": "https://localhost:8080/"
        },
        "id": "fdf1fd7a",
        "outputId": "ac25e430-b689-4895-bae1-fd930b76dc8a"
      },
      "outputs": [
        {
          "output_type": "stream",
          "name": "stdout",
          "text": [
            "A sentença é verdadeira!\n"
          ]
        }
      ],
      "source": [
        "# Condicional if...else\n",
        "if 5 > 2:\n",
        "    print(\"A sentença é verdadeira!\")\n",
        "else:\n",
        "    print(\"A sentença é falsa!\")"
      ]
    },
    {
      "cell_type": "code",
      "execution_count": 45,
      "id": "46580cb9",
      "metadata": {
        "colab": {
          "base_uri": "https://localhost:8080/"
        },
        "id": "46580cb9",
        "outputId": "28caa0a0-f262-49ce-f3de-98ec32cf5181"
      },
      "outputs": [
        {
          "output_type": "stream",
          "name": "stdout",
          "text": [
            "Hoje vai chover!\n"
          ]
        }
      ],
      "source": [
        "# Condicional if...else com variável\n",
        "dia = \"Quarta-feira\"\n",
        "if dia == \"Sexta-feira\":\n",
        "    print(\"Hoje fará sol!\")\n",
        "else: \n",
        "    print(\"Hoje vai chover!\")"
      ]
    },
    {
      "cell_type": "markdown",
      "id": "95bea0e5",
      "metadata": {
        "id": "95bea0e5"
      },
      "source": [
        "# Manipulando arquivos"
      ]
    },
    {
      "cell_type": "markdown",
      "id": "956a5316",
      "metadata": {
        "id": "956a5316"
      },
      "source": [
        "## Lendo arquivos (.txt)"
      ]
    },
    {
      "cell_type": "code",
      "execution_count": 46,
      "id": "3c9a9872",
      "metadata": {
        "id": "3c9a9872"
      },
      "outputs": [],
      "source": [
        "# Abrindo o arquivo para leitura\n",
        "caminho = path + \"/arquivos/arquivo.txt\"\n",
        "caminho2 = path + \"/arquivos/arquivo2.txt\"\n",
        "caminho3 = path +\"arquivos/arquivo2.txt\"\n",
        "a1 = open(caminho,\"r\")"
      ]
    },
    {
      "cell_type": "code",
      "execution_count": 47,
      "id": "798fcf0e",
      "metadata": {
        "colab": {
          "base_uri": "https://localhost:8080/"
        },
        "id": "798fcf0e",
        "outputId": "68c09594-d937-4994-d3ea-1d8a56b1c7f8"
      },
      "outputs": [
        {
          "output_type": "stream",
          "name": "stdout",
          "text": [
            "Teste de arquivo txt\n"
          ]
        }
      ],
      "source": [
        "# Lendo o arquivo\n",
        "print(a1.read())"
      ]
    },
    {
      "cell_type": "markdown",
      "id": "91b092e8",
      "metadata": {
        "id": "91b092e8"
      },
      "source": [
        "## Gravando arquivos (.txt)"
      ]
    },
    {
      "cell_type": "code",
      "execution_count": 48,
      "id": "97622bf7",
      "metadata": {
        "id": "97622bf7"
      },
      "outputs": [],
      "source": [
        "# Abrindo o arquivo para leitura\n",
        "a2 = open(caminho2,\"w\")"
      ]
    },
    {
      "cell_type": "code",
      "execution_count": 49,
      "id": "30930875",
      "metadata": {
        "colab": {
          "base_uri": "https://localhost:8080/"
        },
        "id": "30930875",
        "outputId": "0d23e688-4f7f-4440-a383-d6677f66f681"
      },
      "outputs": [
        {
          "output_type": "execute_result",
          "data": {
            "text/plain": [
              "18"
            ]
          },
          "metadata": {},
          "execution_count": 49
        }
      ],
      "source": [
        "# Gravando no arquivo\n",
        "a2.write(\"Aprendendo Python!\")"
      ]
    },
    {
      "cell_type": "code",
      "execution_count": 50,
      "id": "f446803a",
      "metadata": {
        "id": "f446803a"
      },
      "outputs": [],
      "source": [
        "# Abrindo o arquivo para leitura\n",
        "a2 = open(caminho2,\"r\")"
      ]
    },
    {
      "cell_type": "code",
      "execution_count": 51,
      "id": "060bf518",
      "metadata": {
        "colab": {
          "base_uri": "https://localhost:8080/"
        },
        "id": "060bf518",
        "outputId": "9af11162-ee1d-47ac-bffc-c468aaee4aea"
      },
      "outputs": [
        {
          "output_type": "stream",
          "name": "stdout",
          "text": [
            "Aprendendo Python!\n"
          ]
        }
      ],
      "source": [
        "# Imprimindo arquivo \n",
        "print(a2.read())"
      ]
    }
  ],
  "metadata": {
    "kernelspec": {
      "display_name": "Python 3 (ipykernel)",
      "language": "python",
      "name": "python3"
    },
    "language_info": {
      "codemirror_mode": {
        "name": "ipython",
        "version": 3
      },
      "file_extension": ".py",
      "mimetype": "text/x-python",
      "name": "python",
      "nbconvert_exporter": "python",
      "pygments_lexer": "ipython3",
      "version": "3.10.9"
    },
    "colab": {
      "provenance": [],
      "include_colab_link": true
    },
    "gpuClass": "standard"
  },
  "nbformat": 4,
  "nbformat_minor": 5
}