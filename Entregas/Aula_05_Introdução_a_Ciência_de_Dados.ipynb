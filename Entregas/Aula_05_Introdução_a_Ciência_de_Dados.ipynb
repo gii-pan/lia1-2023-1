{
  "cells": [
    {
      "cell_type": "markdown",
      "metadata": {
        "id": "7woJaqohomR8"
      },
      "source": [
        "<hr style=\"height:10px\"> \n",
        " \n",
        "<div class='container2'>\n",
        "\t<div style='padding: 0 7em 2em 12em;'>\n",
        "\t<h1>Laboratório de Inovação e Automação 1 (LIA 1)</h1>\n",
        "\t<div style=\"font-size:12pt;float:left;\"> 2023/1 | 46M34 | Sala 200 CAE</div><br>\n",
        "    <div style=\"font-size:12pt;float:left;\"><b>Projetos de Inteligência Artificial</b></div>\n",
        "\t</div>\n",
        "</div>\n",
        "\n",
        "\n",
        " <hr style=\"height:5px\"> \n",
        "\n",
        "    \n",
        "<h2>Aula 5 - Preparação e Análise de Dados</h2>\n",
        "\n",
        "Notebook desenvolvido por: <a href=\"https://github.com/gii-pan\">Giulia Borges de Oliveira</a>\n",
        "\n",
        " <hr style=\"height:2px\"> \n"
      ]
    },
    {
      "cell_type": "code",
      "source": [
        "from google.colab import drive\n",
        "drive.mount('/content/drive')"
      ],
      "metadata": {
        "colab": {
          "base_uri": "https://localhost:8080/"
        },
        "id": "Q0jXpjllpdFY",
        "outputId": "4868ad4d-f482-4759-868a-d553ed662895"
      },
      "execution_count": null,
      "outputs": [
        {
          "output_type": "stream",
          "name": "stdout",
          "text": [
            "Mounted at /content/drive\n"
          ]
        }
      ]
    },
    {
      "cell_type": "code",
      "source": [
        "path = \"/content/drive/MyDrive/2023.1/IA/LIA/Aula 05\""
      ],
      "metadata": {
        "id": "lo_gzQy0pbaK"
      },
      "execution_count": null,
      "outputs": []
    },
    {
      "cell_type": "code",
      "execution_count": null,
      "metadata": {
        "colab": {
          "base_uri": "https://localhost:8080/"
        },
        "id": "eX2wTXXTomSB",
        "outputId": "3d2781f9-877d-4cfc-da9c-73779d8587d5"
      },
      "outputs": [
        {
          "output_type": "stream",
          "name": "stdout",
          "text": [
            "A versão da linguagem Python usada neste projeto é a 3.10.11!\n"
          ]
        }
      ],
      "source": [
        "# Confirmar a versão da Linguagem Python instalada\n",
        "from platform import python_version\n",
        "print(f'A versão da linguagem Python usada neste projeto é a {python_version()}!')"
      ]
    },
    {
      "cell_type": "code",
      "execution_count": null,
      "metadata": {
        "scrolled": true,
        "colab": {
          "base_uri": "https://localhost:8080/"
        },
        "id": "6zPEh_iVomSD",
        "outputId": "9dbfcf5b-a247-4dac-8585-5edad66792c2"
      },
      "outputs": [
        {
          "output_type": "stream",
          "name": "stdout",
          "text": [
            "Bye bye, World!\n"
          ]
        }
      ],
      "source": [
        "# Verificar se o Python está funcionando\n",
        "print('Bye bye, World!')"
      ]
    },
    {
      "cell_type": "markdown",
      "metadata": {
        "id": "JwdnG28NomSD"
      },
      "source": [
        "---\n",
        "## 1. Bibliotecas Necessárias para o Notebook (Aula)\n",
        "\n",
        "Para este notebook, deve ser utilizada a mesma versão apresentada pelo professor da disciplina.\n",
        "\n",
        "* [`matplotlib`](https://matplotlib.org/): construção e exibição de gráficos genéricos.\n",
        "* [`seaborn`](https://seaborn.pydata.org/): construção e exibição de gráficos específicos/estatísticas.\n",
        "* [`numpy`](https://numpy.org): manipulação de dados em formato de vetores e matrizes.\n",
        "* [`pandas`](https://pandas.pydata.org/pandas-docs/stable/index.html): manipulação de dados em formato de tabelas."
      ]
    },
    {
      "cell_type": "markdown",
      "metadata": {
        "id": "F3X4afHromSE"
      },
      "source": [
        "---\n",
        "## 2. Carregar e Exibir os Dados da Fonte\n",
        "\n",
        "Primeiro, vamos importar todas as bibliotecas que serão utilizadas no projeto."
      ]
    },
    {
      "cell_type": "code",
      "execution_count": null,
      "metadata": {
        "colab": {
          "base_uri": "https://localhost:8080/"
        },
        "id": "BQS-DXBBomSE",
        "outputId": "6329f602-61ca-41c2-ba4f-320dcc675c46"
      },
      "outputs": [
        {
          "output_type": "stream",
          "name": "stdout",
          "text": [
            "Bibliotecas carregadas com sucesso!\n"
          ]
        }
      ],
      "source": [
        "# importar a biblioteca - Todos os projetos passarão pelo Numpy!\n",
        "import numpy as np\n",
        "\n",
        "# importar a biblioteca - Excel do Python!\n",
        "import pandas as pd \n",
        "\n",
        "# importar as bibliotecas - Visualizar dados!\n",
        "import seaborn as sns\n",
        "import matplotlib.pyplot as plt\n",
        "\n",
        "print('Bibliotecas carregadas com sucesso!')\n",
        "\n",
        "# Instalação silenciosa\n",
        "#!pip install -q numpy"
      ]
    },
    {
      "cell_type": "markdown",
      "metadata": {
        "id": "yHQ1tKu_omSF"
      },
      "source": [
        "---\n",
        "## 3. Introdução ao Dados\n",
        "\n",
        "A cada dia, uma enorme quantidade de dados é gerada de diferentes fontes. Um conjunto de dados é formado por objetos que representam algo físico (cadeira) ou abstrato (diagnóstico), sendo descrito por seus atributos. Deve-se realizar a caracterização dos dados e a exploração inicial com estatística e visualização básicas, conhecido como pré-processamento.\n",
        "\n",
        "O pré-processamento pode demandar tarefas de integração, eliminação manual, amostragem, balanceamento, limpeza, redução da dimensionalidade, transformação de dados etc., estando essas tarefas associadas à Mineração de Dados (MD), a qual foca no processo em si, em como realizar essas tarefas.\n",
        "\n",
        "A MD busca extrair conhecimento novo, útil e relevante, gerando as bases para a Ciência de Dados (CD), a qual foca no impacto e na relevância do conhecimento.\n",
        "\n",
        "#### Em resumo, MD (processo) e CD (dados)!"
      ]
    },
    {
      "cell_type": "markdown",
      "metadata": {
        "id": "Ma1hABL4omSF"
      },
      "source": [
        "---\n",
        "## Caracterização de dados\n",
        "\n",
        "Considere o conjunto de dados provenientes de pacientes de um hospital, denominado `hospital`."
      ]
    },
    {
      "cell_type": "code",
      "execution_count": null,
      "metadata": {
        "colab": {
          "base_uri": "https://localhost:8080/"
        },
        "id": "TjnuxrwVomSG",
        "outputId": "e12dfaae-2ae1-4200-e3e4-392f938813ec"
      },
      "outputs": [
        {
          "output_type": "stream",
          "name": "stdout",
          "text": [
            "Dados importados com sucesso!\n"
          ]
        }
      ],
      "source": [
        "# importar o arquivo e guarda em um dataframe do Pandas\n",
        "hospital_path = path + '/hospital.txt'\n",
        "df_dataset = pd.read_csv ( hospital_path, sep=',', index_col=None)\n",
        "df_dataset = df_dataset.drop(10)\n",
        "\n",
        "print('Dados importados com sucesso!')"
      ]
    },
    {
      "cell_type": "code",
      "execution_count": null,
      "metadata": {
        "scrolled": false,
        "colab": {
          "base_uri": "https://localhost:8080/",
          "height": 206
        },
        "id": "wD38bRfkomSH",
        "outputId": "50561dcc-4aa6-4dcf-8d8f-8ffbbeaec2d3"
      },
      "outputs": [
        {
          "output_type": "display_data",
          "data": {
            "text/plain": [
              "     Id     Nome  Idade Sexo  Peso       Manchas  Temp  Internação Estado  \\\n",
              "0  4201     João     55    M  90.0  Concentradas  38.0           2     SP   \n",
              "1  3217    Maria     56    F  91.0  Inexistentes  39.5           4     MG   \n",
              "2  4039     Luiz     49    M  92.0    Espalhadas  38.0           2     RS   \n",
              "3  1920     José     57    M  93.0  Inexistentes  38.5           2     MG   \n",
              "4  4340  Cláudia     21    F  52.0     Uniformes  37.6           1     PE   \n",
              "\n",
              "        Time Diagnóstico  \n",
              "0  Palmeiras      Doente  \n",
              "1   Cruzeiro      Doente  \n",
              "2     Grêmio    Saudável  \n",
              "3   Atlético      Doente  \n",
              "4      Sport    Saudável  "
            ],
            "text/html": [
              "\n",
              "  <div id=\"df-8bccceea-a376-4441-9105-b68510604da9\">\n",
              "    <div class=\"colab-df-container\">\n",
              "      <div>\n",
              "<style scoped>\n",
              "    .dataframe tbody tr th:only-of-type {\n",
              "        vertical-align: middle;\n",
              "    }\n",
              "\n",
              "    .dataframe tbody tr th {\n",
              "        vertical-align: top;\n",
              "    }\n",
              "\n",
              "    .dataframe thead th {\n",
              "        text-align: right;\n",
              "    }\n",
              "</style>\n",
              "<table border=\"1\" class=\"dataframe\">\n",
              "  <thead>\n",
              "    <tr style=\"text-align: right;\">\n",
              "      <th></th>\n",
              "      <th>Id</th>\n",
              "      <th>Nome</th>\n",
              "      <th>Idade</th>\n",
              "      <th>Sexo</th>\n",
              "      <th>Peso</th>\n",
              "      <th>Manchas</th>\n",
              "      <th>Temp</th>\n",
              "      <th>Internação</th>\n",
              "      <th>Estado</th>\n",
              "      <th>Time</th>\n",
              "      <th>Diagnóstico</th>\n",
              "    </tr>\n",
              "  </thead>\n",
              "  <tbody>\n",
              "    <tr>\n",
              "      <th>0</th>\n",
              "      <td>4201</td>\n",
              "      <td>João</td>\n",
              "      <td>55</td>\n",
              "      <td>M</td>\n",
              "      <td>90.0</td>\n",
              "      <td>Concentradas</td>\n",
              "      <td>38.0</td>\n",
              "      <td>2</td>\n",
              "      <td>SP</td>\n",
              "      <td>Palmeiras</td>\n",
              "      <td>Doente</td>\n",
              "    </tr>\n",
              "    <tr>\n",
              "      <th>1</th>\n",
              "      <td>3217</td>\n",
              "      <td>Maria</td>\n",
              "      <td>56</td>\n",
              "      <td>F</td>\n",
              "      <td>91.0</td>\n",
              "      <td>Inexistentes</td>\n",
              "      <td>39.5</td>\n",
              "      <td>4</td>\n",
              "      <td>MG</td>\n",
              "      <td>Cruzeiro</td>\n",
              "      <td>Doente</td>\n",
              "    </tr>\n",
              "    <tr>\n",
              "      <th>2</th>\n",
              "      <td>4039</td>\n",
              "      <td>Luiz</td>\n",
              "      <td>49</td>\n",
              "      <td>M</td>\n",
              "      <td>92.0</td>\n",
              "      <td>Espalhadas</td>\n",
              "      <td>38.0</td>\n",
              "      <td>2</td>\n",
              "      <td>RS</td>\n",
              "      <td>Grêmio</td>\n",
              "      <td>Saudável</td>\n",
              "    </tr>\n",
              "    <tr>\n",
              "      <th>3</th>\n",
              "      <td>1920</td>\n",
              "      <td>José</td>\n",
              "      <td>57</td>\n",
              "      <td>M</td>\n",
              "      <td>93.0</td>\n",
              "      <td>Inexistentes</td>\n",
              "      <td>38.5</td>\n",
              "      <td>2</td>\n",
              "      <td>MG</td>\n",
              "      <td>Atlético</td>\n",
              "      <td>Doente</td>\n",
              "    </tr>\n",
              "    <tr>\n",
              "      <th>4</th>\n",
              "      <td>4340</td>\n",
              "      <td>Cláudia</td>\n",
              "      <td>21</td>\n",
              "      <td>F</td>\n",
              "      <td>52.0</td>\n",
              "      <td>Uniformes</td>\n",
              "      <td>37.6</td>\n",
              "      <td>1</td>\n",
              "      <td>PE</td>\n",
              "      <td>Sport</td>\n",
              "      <td>Saudável</td>\n",
              "    </tr>\n",
              "  </tbody>\n",
              "</table>\n",
              "</div>\n",
              "      <button class=\"colab-df-convert\" onclick=\"convertToInteractive('df-8bccceea-a376-4441-9105-b68510604da9')\"\n",
              "              title=\"Convert this dataframe to an interactive table.\"\n",
              "              style=\"display:none;\">\n",
              "        \n",
              "  <svg xmlns=\"http://www.w3.org/2000/svg\" height=\"24px\"viewBox=\"0 0 24 24\"\n",
              "       width=\"24px\">\n",
              "    <path d=\"M0 0h24v24H0V0z\" fill=\"none\"/>\n",
              "    <path d=\"M18.56 5.44l.94 2.06.94-2.06 2.06-.94-2.06-.94-.94-2.06-.94 2.06-2.06.94zm-11 1L8.5 8.5l.94-2.06 2.06-.94-2.06-.94L8.5 2.5l-.94 2.06-2.06.94zm10 10l.94 2.06.94-2.06 2.06-.94-2.06-.94-.94-2.06-.94 2.06-2.06.94z\"/><path d=\"M17.41 7.96l-1.37-1.37c-.4-.4-.92-.59-1.43-.59-.52 0-1.04.2-1.43.59L10.3 9.45l-7.72 7.72c-.78.78-.78 2.05 0 2.83L4 21.41c.39.39.9.59 1.41.59.51 0 1.02-.2 1.41-.59l7.78-7.78 2.81-2.81c.8-.78.8-2.07 0-2.86zM5.41 20L4 18.59l7.72-7.72 1.47 1.35L5.41 20z\"/>\n",
              "  </svg>\n",
              "      </button>\n",
              "      \n",
              "  <style>\n",
              "    .colab-df-container {\n",
              "      display:flex;\n",
              "      flex-wrap:wrap;\n",
              "      gap: 12px;\n",
              "    }\n",
              "\n",
              "    .colab-df-convert {\n",
              "      background-color: #E8F0FE;\n",
              "      border: none;\n",
              "      border-radius: 50%;\n",
              "      cursor: pointer;\n",
              "      display: none;\n",
              "      fill: #1967D2;\n",
              "      height: 32px;\n",
              "      padding: 0 0 0 0;\n",
              "      width: 32px;\n",
              "    }\n",
              "\n",
              "    .colab-df-convert:hover {\n",
              "      background-color: #E2EBFA;\n",
              "      box-shadow: 0px 1px 2px rgba(60, 64, 67, 0.3), 0px 1px 3px 1px rgba(60, 64, 67, 0.15);\n",
              "      fill: #174EA6;\n",
              "    }\n",
              "\n",
              "    [theme=dark] .colab-df-convert {\n",
              "      background-color: #3B4455;\n",
              "      fill: #D2E3FC;\n",
              "    }\n",
              "\n",
              "    [theme=dark] .colab-df-convert:hover {\n",
              "      background-color: #434B5C;\n",
              "      box-shadow: 0px 1px 3px 1px rgba(0, 0, 0, 0.15);\n",
              "      filter: drop-shadow(0px 1px 2px rgba(0, 0, 0, 0.3));\n",
              "      fill: #FFFFFF;\n",
              "    }\n",
              "  </style>\n",
              "\n",
              "      <script>\n",
              "        const buttonEl =\n",
              "          document.querySelector('#df-8bccceea-a376-4441-9105-b68510604da9 button.colab-df-convert');\n",
              "        buttonEl.style.display =\n",
              "          google.colab.kernel.accessAllowed ? 'block' : 'none';\n",
              "\n",
              "        async function convertToInteractive(key) {\n",
              "          const element = document.querySelector('#df-8bccceea-a376-4441-9105-b68510604da9');\n",
              "          const dataTable =\n",
              "            await google.colab.kernel.invokeFunction('convertToInteractive',\n",
              "                                                     [key], {});\n",
              "          if (!dataTable) return;\n",
              "\n",
              "          const docLinkHtml = 'Like what you see? Visit the ' +\n",
              "            '<a target=\"_blank\" href=https://colab.research.google.com/notebooks/data_table.ipynb>data table notebook</a>'\n",
              "            + ' to learn more about interactive tables.';\n",
              "          element.innerHTML = '';\n",
              "          dataTable['output_type'] = 'display_data';\n",
              "          await google.colab.output.renderOutput(dataTable, element);\n",
              "          const docLink = document.createElement('div');\n",
              "          docLink.innerHTML = docLinkHtml;\n",
              "          element.appendChild(docLink);\n",
              "        }\n",
              "      </script>\n",
              "    </div>\n",
              "  </div>\n",
              "  "
            ]
          },
          "metadata": {}
        }
      ],
      "source": [
        "# exibir uma amostra do dataframe\n",
        "display(df_dataset.head())"
      ]
    },
    {
      "cell_type": "code",
      "execution_count": null,
      "metadata": {
        "scrolled": true,
        "colab": {
          "base_uri": "https://localhost:8080/",
          "height": 300
        },
        "id": "8XoydV2domSH",
        "outputId": "c491795b-ab0b-4944-8266-03b21e8014c7"
      },
      "outputs": [
        {
          "output_type": "display_data",
          "data": {
            "text/plain": [
              "     Id     Nome  Idade Sexo  Peso       Manchas  Temp  Internação Estado  \\\n",
              "0  4201     João     55    M  90.0  Concentradas  38.0           2     SP   \n",
              "1  3217    Maria     56    F  91.0  Inexistentes  39.5           4     MG   \n",
              "2  4039     Luiz     49    M  92.0    Espalhadas  38.0           2     RS   \n",
              "3  1920     José     57    M  93.0  Inexistentes  38.5           2     MG   \n",
              "4  4340  Cláudia     21    F  52.0     Uniformes  37.6           1     PE   \n",
              "5  2301      Ana     58    F  94.0  Inexistentes  38.0           3     RJ   \n",
              "6  1322    Marta     19    F  87.0    Espalhadas  39.0           3     AM   \n",
              "7  3027    Paulo     34    M  67.0     Uniformes  38.4           2     GO   \n",
              "\n",
              "        Time Diagnóstico  \n",
              "0  Palmeiras      Doente  \n",
              "1   Cruzeiro      Doente  \n",
              "2     Grêmio    Saudável  \n",
              "3   Atlético      Doente  \n",
              "4      Sport    Saudável  \n",
              "5   Botafogo      Doente  \n",
              "6   Flamengo      Doente  \n",
              "7  Vila Nova    Saudável  "
            ],
            "text/html": [
              "\n",
              "  <div id=\"df-f5bd919c-41af-4853-a14d-6b62db9c1be9\">\n",
              "    <div class=\"colab-df-container\">\n",
              "      <div>\n",
              "<style scoped>\n",
              "    .dataframe tbody tr th:only-of-type {\n",
              "        vertical-align: middle;\n",
              "    }\n",
              "\n",
              "    .dataframe tbody tr th {\n",
              "        vertical-align: top;\n",
              "    }\n",
              "\n",
              "    .dataframe thead th {\n",
              "        text-align: right;\n",
              "    }\n",
              "</style>\n",
              "<table border=\"1\" class=\"dataframe\">\n",
              "  <thead>\n",
              "    <tr style=\"text-align: right;\">\n",
              "      <th></th>\n",
              "      <th>Id</th>\n",
              "      <th>Nome</th>\n",
              "      <th>Idade</th>\n",
              "      <th>Sexo</th>\n",
              "      <th>Peso</th>\n",
              "      <th>Manchas</th>\n",
              "      <th>Temp</th>\n",
              "      <th>Internação</th>\n",
              "      <th>Estado</th>\n",
              "      <th>Time</th>\n",
              "      <th>Diagnóstico</th>\n",
              "    </tr>\n",
              "  </thead>\n",
              "  <tbody>\n",
              "    <tr>\n",
              "      <th>0</th>\n",
              "      <td>4201</td>\n",
              "      <td>João</td>\n",
              "      <td>55</td>\n",
              "      <td>M</td>\n",
              "      <td>90.0</td>\n",
              "      <td>Concentradas</td>\n",
              "      <td>38.0</td>\n",
              "      <td>2</td>\n",
              "      <td>SP</td>\n",
              "      <td>Palmeiras</td>\n",
              "      <td>Doente</td>\n",
              "    </tr>\n",
              "    <tr>\n",
              "      <th>1</th>\n",
              "      <td>3217</td>\n",
              "      <td>Maria</td>\n",
              "      <td>56</td>\n",
              "      <td>F</td>\n",
              "      <td>91.0</td>\n",
              "      <td>Inexistentes</td>\n",
              "      <td>39.5</td>\n",
              "      <td>4</td>\n",
              "      <td>MG</td>\n",
              "      <td>Cruzeiro</td>\n",
              "      <td>Doente</td>\n",
              "    </tr>\n",
              "    <tr>\n",
              "      <th>2</th>\n",
              "      <td>4039</td>\n",
              "      <td>Luiz</td>\n",
              "      <td>49</td>\n",
              "      <td>M</td>\n",
              "      <td>92.0</td>\n",
              "      <td>Espalhadas</td>\n",
              "      <td>38.0</td>\n",
              "      <td>2</td>\n",
              "      <td>RS</td>\n",
              "      <td>Grêmio</td>\n",
              "      <td>Saudável</td>\n",
              "    </tr>\n",
              "    <tr>\n",
              "      <th>3</th>\n",
              "      <td>1920</td>\n",
              "      <td>José</td>\n",
              "      <td>57</td>\n",
              "      <td>M</td>\n",
              "      <td>93.0</td>\n",
              "      <td>Inexistentes</td>\n",
              "      <td>38.5</td>\n",
              "      <td>2</td>\n",
              "      <td>MG</td>\n",
              "      <td>Atlético</td>\n",
              "      <td>Doente</td>\n",
              "    </tr>\n",
              "    <tr>\n",
              "      <th>4</th>\n",
              "      <td>4340</td>\n",
              "      <td>Cláudia</td>\n",
              "      <td>21</td>\n",
              "      <td>F</td>\n",
              "      <td>52.0</td>\n",
              "      <td>Uniformes</td>\n",
              "      <td>37.6</td>\n",
              "      <td>1</td>\n",
              "      <td>PE</td>\n",
              "      <td>Sport</td>\n",
              "      <td>Saudável</td>\n",
              "    </tr>\n",
              "    <tr>\n",
              "      <th>5</th>\n",
              "      <td>2301</td>\n",
              "      <td>Ana</td>\n",
              "      <td>58</td>\n",
              "      <td>F</td>\n",
              "      <td>94.0</td>\n",
              "      <td>Inexistentes</td>\n",
              "      <td>38.0</td>\n",
              "      <td>3</td>\n",
              "      <td>RJ</td>\n",
              "      <td>Botafogo</td>\n",
              "      <td>Doente</td>\n",
              "    </tr>\n",
              "    <tr>\n",
              "      <th>6</th>\n",
              "      <td>1322</td>\n",
              "      <td>Marta</td>\n",
              "      <td>19</td>\n",
              "      <td>F</td>\n",
              "      <td>87.0</td>\n",
              "      <td>Espalhadas</td>\n",
              "      <td>39.0</td>\n",
              "      <td>3</td>\n",
              "      <td>AM</td>\n",
              "      <td>Flamengo</td>\n",
              "      <td>Doente</td>\n",
              "    </tr>\n",
              "    <tr>\n",
              "      <th>7</th>\n",
              "      <td>3027</td>\n",
              "      <td>Paulo</td>\n",
              "      <td>34</td>\n",
              "      <td>M</td>\n",
              "      <td>67.0</td>\n",
              "      <td>Uniformes</td>\n",
              "      <td>38.4</td>\n",
              "      <td>2</td>\n",
              "      <td>GO</td>\n",
              "      <td>Vila Nova</td>\n",
              "      <td>Saudável</td>\n",
              "    </tr>\n",
              "  </tbody>\n",
              "</table>\n",
              "</div>\n",
              "      <button class=\"colab-df-convert\" onclick=\"convertToInteractive('df-f5bd919c-41af-4853-a14d-6b62db9c1be9')\"\n",
              "              title=\"Convert this dataframe to an interactive table.\"\n",
              "              style=\"display:none;\">\n",
              "        \n",
              "  <svg xmlns=\"http://www.w3.org/2000/svg\" height=\"24px\"viewBox=\"0 0 24 24\"\n",
              "       width=\"24px\">\n",
              "    <path d=\"M0 0h24v24H0V0z\" fill=\"none\"/>\n",
              "    <path d=\"M18.56 5.44l.94 2.06.94-2.06 2.06-.94-2.06-.94-.94-2.06-.94 2.06-2.06.94zm-11 1L8.5 8.5l.94-2.06 2.06-.94-2.06-.94L8.5 2.5l-.94 2.06-2.06.94zm10 10l.94 2.06.94-2.06 2.06-.94-2.06-.94-.94-2.06-.94 2.06-2.06.94z\"/><path d=\"M17.41 7.96l-1.37-1.37c-.4-.4-.92-.59-1.43-.59-.52 0-1.04.2-1.43.59L10.3 9.45l-7.72 7.72c-.78.78-.78 2.05 0 2.83L4 21.41c.39.39.9.59 1.41.59.51 0 1.02-.2 1.41-.59l7.78-7.78 2.81-2.81c.8-.78.8-2.07 0-2.86zM5.41 20L4 18.59l7.72-7.72 1.47 1.35L5.41 20z\"/>\n",
              "  </svg>\n",
              "      </button>\n",
              "      \n",
              "  <style>\n",
              "    .colab-df-container {\n",
              "      display:flex;\n",
              "      flex-wrap:wrap;\n",
              "      gap: 12px;\n",
              "    }\n",
              "\n",
              "    .colab-df-convert {\n",
              "      background-color: #E8F0FE;\n",
              "      border: none;\n",
              "      border-radius: 50%;\n",
              "      cursor: pointer;\n",
              "      display: none;\n",
              "      fill: #1967D2;\n",
              "      height: 32px;\n",
              "      padding: 0 0 0 0;\n",
              "      width: 32px;\n",
              "    }\n",
              "\n",
              "    .colab-df-convert:hover {\n",
              "      background-color: #E2EBFA;\n",
              "      box-shadow: 0px 1px 2px rgba(60, 64, 67, 0.3), 0px 1px 3px 1px rgba(60, 64, 67, 0.15);\n",
              "      fill: #174EA6;\n",
              "    }\n",
              "\n",
              "    [theme=dark] .colab-df-convert {\n",
              "      background-color: #3B4455;\n",
              "      fill: #D2E3FC;\n",
              "    }\n",
              "\n",
              "    [theme=dark] .colab-df-convert:hover {\n",
              "      background-color: #434B5C;\n",
              "      box-shadow: 0px 1px 3px 1px rgba(0, 0, 0, 0.15);\n",
              "      filter: drop-shadow(0px 1px 2px rgba(0, 0, 0, 0.3));\n",
              "      fill: #FFFFFF;\n",
              "    }\n",
              "  </style>\n",
              "\n",
              "      <script>\n",
              "        const buttonEl =\n",
              "          document.querySelector('#df-f5bd919c-41af-4853-a14d-6b62db9c1be9 button.colab-df-convert');\n",
              "        buttonEl.style.display =\n",
              "          google.colab.kernel.accessAllowed ? 'block' : 'none';\n",
              "\n",
              "        async function convertToInteractive(key) {\n",
              "          const element = document.querySelector('#df-f5bd919c-41af-4853-a14d-6b62db9c1be9');\n",
              "          const dataTable =\n",
              "            await google.colab.kernel.invokeFunction('convertToInteractive',\n",
              "                                                     [key], {});\n",
              "          if (!dataTable) return;\n",
              "\n",
              "          const docLinkHtml = 'Like what you see? Visit the ' +\n",
              "            '<a target=\"_blank\" href=https://colab.research.google.com/notebooks/data_table.ipynb>data table notebook</a>'\n",
              "            + ' to learn more about interactive tables.';\n",
              "          element.innerHTML = '';\n",
              "          dataTable['output_type'] = 'display_data';\n",
              "          await google.colab.output.renderOutput(dataTable, element);\n",
              "          const docLink = document.createElement('div');\n",
              "          docLink.innerHTML = docLinkHtml;\n",
              "          element.appendChild(docLink);\n",
              "        }\n",
              "      </script>\n",
              "    </div>\n",
              "  </div>\n",
              "  "
            ]
          },
          "metadata": {}
        }
      ],
      "source": [
        "# exibir todo dataframe\n",
        "display(df_dataset.head(n=8))"
      ]
    },
    {
      "cell_type": "markdown",
      "metadata": {
        "id": "N7TifVbBomSH"
      },
      "source": [
        "Cada objeto corresponde a um paciente, sendo formado pelos atributos de entrada referentes ao paciente. \n",
        "\n",
        "Os atributos (identificação; nome; idade; sexo; peso; internação; estado; time; sintomas e resultados clínicos. Os sintomas são (manchas; e temperatura). O atributo alvo: `diagnóstico`. *Esse atributo alvo é necessário em tarefas preditivas. Em tarefas descritivas é desnecessário!*"
      ]
    },
    {
      "cell_type": "code",
      "execution_count": null,
      "metadata": {
        "colab": {
          "base_uri": "https://localhost:8080/",
          "height": 250
        },
        "id": "IR0zF2DzomSI",
        "outputId": "e67c0bfc-cb5d-4d53-e322-51538f733ce5"
      },
      "outputs": [
        {
          "output_type": "execute_result",
          "data": {
            "text/plain": [
              "<Axes: ylabel='Internação'>"
            ]
          },
          "metadata": {},
          "execution_count": 64
        },
        {
          "output_type": "display_data",
          "data": {
            "text/plain": [
              "<Figure size 200x200 with 1 Axes>"
            ],
            "image/png": "[encoded data removed]"
          },
          "metadata": {}
        }
      ],
      "source": [
        "df_dataset.groupby('Diagnóstico').count().plot.pie(y = 'Internação')"
      ]
    },
    {
      "cell_type": "markdown",
      "metadata": {
        "id": "lnu_5O_AomSI"
      },
      "source": [
        "---\n",
        "## Considerações finais:\n",
        "\n",
        "Antes de aplicar algoritmos de AM a um conjunto de dados, é importante que os dados sejam analisados. Essa análise, que pode ser realizada por técnicas estatísticas e de visualização, permite uma melhor compreensão da distribuição dos dados e pode dar suporte à escolha de formas de abordar o problema.\n",
        "\n",
        "Foram apresentados conceitos considerados importantes para analisar os principais aspectos de um conjunto de dados. Após uma caracterização dos tipos de dados, foram apresentadas algumas técnicas"
      ]
    },
    {
      "cell_type": "markdown",
      "source": [
        "## Gráfico para Idade"
      ],
      "metadata": {
        "id": "ibYsNQQjy4go"
      }
    },
    {
      "cell_type": "code",
      "source": [
        "plt.style.use('_mpl-gallery')\n",
        "\n",
        "# plot:\n",
        "fig = plt.figure(figsize=(5,5))\n",
        "plt.hist(df_dataset[\"Idade\"], bins=8, linewidth=0.5, edgecolor=\"white\")\n",
        "\n",
        "plt.xlabel(\"Idade\")\n",
        "plt.ylabel(\"Quantidade\")"
      ],
      "metadata": {
        "colab": {
          "base_uri": "https://localhost:8080/",
          "height": 587
        },
        "id": "EEuIgm3IwAH1",
        "outputId": "f2ec136f-a438-40e2-a263-603b90aab21a"
      },
      "execution_count": null,
      "outputs": [
        {
          "output_type": "execute_result",
          "data": {
            "text/plain": [
              "Text(0, 0.5, 'Quantidade')"
            ]
          },
          "metadata": {},
          "execution_count": 75
        },
        {
          "output_type": "display_data",
          "data": {
            "text/plain": [
              "<Figure size 500x500 with 1 Axes>"
            ],
            "image/png": "[encoded data removed]"
          },
          "metadata": {}
        }
      ]
    },
    {
      "cell_type": "markdown",
      "source": [
        "## Gráfico para Internação"
      ],
      "metadata": {
        "id": "A11gstSly9kf"
      }
    },
    {
      "cell_type": "code",
      "source": [
        "# size and color:\n",
        "sizes = np.random.uniform(15, 80, len(df_dataset[\"Sexo\"]))\n",
        "colors = np.random.uniform(15, 80, len(df_dataset[\"Sexo\"]))\n",
        "\n",
        "# plot\n",
        "fig = plt.figure(figsize=(5,5))\n",
        "\n",
        "plt.scatter(df_dataset[\"Sexo\"], df_dataset[\"Internação\"], s=sizes, c=colors, vmin=0, vmax=100)\n",
        "\n",
        "plt.ylabel(\"Internação\")\n",
        "plt.xlabel(\"Sexo\")"
      ],
      "metadata": {
        "colab": {
          "base_uri": "https://localhost:8080/",
          "height": 587
        },
        "id": "7pHIh26syBPS",
        "outputId": "cbda7d76-b6f9-463a-f619-7c5edcf1c31d"
      },
      "execution_count": null,
      "outputs": [
        {
          "output_type": "execute_result",
          "data": {
            "text/plain": [
              "Text(0.5, 0, 'Sexo')"
            ]
          },
          "metadata": {},
          "execution_count": 76
        },
        {
          "output_type": "display_data",
          "data": {
            "text/plain": [
              "<Figure size 500x500 with 1 Axes>"
            ],
            "image/png": "[encoded data removed]"
          },
          "metadata": {}
        }
      ]
    },
    {
      "cell_type": "markdown",
      "source": [
        "## Gráfico relacionando o time com a condição dos pacientes"
      ],
      "metadata": {
        "id": "-VJZ9tyh2fyb"
      }
    },
    {
      "cell_type": "code",
      "source": [
        "sns.set_theme(style=\"darkgrid\")\n",
        "\n",
        "sns.relplot(data=df_dataset, x=\"Diagnóstico\", y=\"Time\", hue=\"Sexo\", style=\"Internação\")"
      ],
      "metadata": {
        "colab": {
          "base_uri": "https://localhost:8080/",
          "height": 518
        },
        "id": "OPgjgp-yz5jd",
        "outputId": "d4a052c7-c3e4-40ba-b73c-6bf6da596c1b"
      },
      "execution_count": null,
      "outputs": [
        {
          "output_type": "execute_result",
          "data": {
            "text/plain": [
              "<seaborn.axisgrid.FacetGrid at 0x7f0866adb670>"
            ]
          },
          "metadata": {},
          "execution_count": 67
        },
        {
          "output_type": "display_data",
          "data": {
            "text/plain": [
              "<Figure size 613.194x500 with 1 Axes>"
            ],
            "image/png": "[encoded data removed]"
          },
          "metadata": {}
        }
      ]
    },
    {
      "cell_type": "code",
      "source": [
        "sns.jointplot(data=df_dataset, x=\"Diagnóstico\", y=\"Temp\")"
      ],
      "metadata": {
        "colab": {
          "base_uri": "https://localhost:8080/",
          "height": 617
        },
        "id": "saFWbHou2lgi",
        "outputId": "e5980453-84ff-486e-b2be-dae22563ba9c"
      },
      "execution_count": null,
      "outputs": [
        {
          "output_type": "execute_result",
          "data": {
            "text/plain": [
              "<seaborn.axisgrid.JointGrid at 0x7f08669528c0>"
            ]
          },
          "metadata": {},
          "execution_count": 68
        },
        {
          "output_type": "display_data",
          "data": {
            "text/plain": [
              "<Figure size 600x600 with 3 Axes>"
            ],
            "image/png": "[encoded data removed]"
          },
          "metadata": {}
        }
      ]
    }
  ],
  "metadata": {
    "kernelspec": {
      "display_name": "Python 3 (ipykernel)",
      "language": "python",
      "name": "python3"
    },
    "language_info": {
      "codemirror_mode": {
        "name": "ipython",
        "version": 3
      },
      "file_extension": ".py",
      "mimetype": "text/x-python",
      "name": "python",
      "nbconvert_exporter": "python",
      "pygments_lexer": "ipython3",
      "version": "3.9.13"
    },
    "colab": {
      "provenance": [],
      "collapsed_sections": [
        "F3X4afHromSE",
        "Ma1hABL4omSF"
      ]
    }
  },
  "nbformat": 4,
  "nbformat_minor": 0
}